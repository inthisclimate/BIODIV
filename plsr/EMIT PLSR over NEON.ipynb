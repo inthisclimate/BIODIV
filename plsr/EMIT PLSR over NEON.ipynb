{
 "cells": [
  {
   "cell_type": "code",
   "execution_count": 13,
   "id": "d65c16c9",
   "metadata": {},
   "outputs": [],
   "source": [
    "import os\n",
    "import sys\n",
    "import numpy as np\n",
    "import xarray as xr\n",
    "import pandas as pd\n",
    "import hvplot.xarray  # For visualization\n",
    "\n",
    "import emit_tools as et\n",
    "from emit_tools import emit_xarray\n",
    "import earthaccess\n",
    "import json\n",
    "from sklearn.cross_decomposition import PLSRegression"
   ]
  },
  {
   "cell_type": "markdown",
   "id": "3c5ac53e",
   "metadata": {},
   "source": [
    "Login to your NASA Earthdata account and create a `.netrc` file using the `login` function from the `earthaccess` library. If you do not have an Earthdata Account, you can create one [here](https://urs.earthdata.nasa.gov/home). "
   ]
  },
  {
   "cell_type": "code",
   "execution_count": 14,
   "id": "6f81d9d0",
   "metadata": {},
   "outputs": [
    {
     "name": "stdout",
     "output_type": "stream",
     "text": [
      "EARTHDATA_USERNAME and EARTHDATA_PASSWORD are not set in the current environment, try setting them or use a different strategy (netrc, interactive)\n",
      "You're now authenticated with NASA Earthdata Login\n",
      "earthaccess generated a token for CMR with expiration on: 06/08/2024\n",
      "earthaccess generated a token for CMR with expiration on: 06/08/2024\n",
      "Using .netrc file for EDL\n"
     ]
    },
    {
     "data": {
      "text/plain": [
       "<earthaccess.auth.Auth at 0x121182a9dd0>"
      ]
     },
     "execution_count": 14,
     "metadata": {},
     "output_type": "execute_result"
    }
   ],
   "source": [
    "earthaccess.login(persist=True)"
   ]
  },
  {
   "cell_type": "markdown",
   "id": "e86613b6",
   "metadata": {},
   "source": [
    "Replace the url below with the link to the EMIT file desired using earthaccess. \n",
    "\n",
    "Get an HTTPS Session using your earthdata login, set a local path to save the file, and download the granule asset - This may take a while, the reflectance file is approximately 1.8 GB."
   ]
  },
  {
   "cell_type": "code",
   "execution_count": 15,
   "id": "c91cb0fc",
   "metadata": {},
   "outputs": [],
   "source": [
    "url = 'https://data.lpdaac.earthdatacloud.nasa.gov/lp-prod-protected/EMITL2ARFL.001/EMIT_L2A_RFL_001_20230826T175001_2323812_003/EMIT_L2A_RFL_001_20230826T175001_2323812_003.nc'"
   ]
  },
  {
   "cell_type": "code",
   "execution_count": 19,
   "id": "a900261b",
   "metadata": {},
   "outputs": [],
   "source": [
    "# Get requests https Session using Earthdata Login Info\n",
    "fs = earthaccess.get_requests_https_session()\n",
    "# Retrieve granule asset ID from URL (to maintain existing naming convention)\n",
    "granule_asset_id = url.split('/')[-1]\n",
    "# Define Local Filepath\n",
    "fp = f'data/{granule_asset_id}'\n",
    "# Download the Granule Asset if it doesn't exist\n",
    "if not os.path.isfile(fp):\n",
    "    with fs.get(url,stream=True) as src:\n",
    "        with open(fp,'wb') as dst:\n",
    "            for chunk in src.iter_content(chunk_size=64*1024*1024):\n",
    "                dst.write(chunk)"
   ]
  },
  {
   "cell_type": "code",
   "execution_count": 5,
   "id": "737aaeb9",
   "metadata": {},
   "outputs": [
    {
     "name": "stdout",
     "output_type": "stream",
     "text": [
      "EMIT_L2A_RFL_001_20230826T175001_2323812_003.nc\n"
     ]
    }
   ],
   "source": [
    "print(granule_asset_id)"
   ]
  },
  {
   "cell_type": "markdown",
   "id": "4bc39979",
   "metadata": {},
   "source": [
    "Load up the EMIT image, normalize it as instructed by Ting"
   ]
  },
  {
   "cell_type": "code",
   "execution_count": 20,
   "id": "96a235c0",
   "metadata": {},
   "outputs": [],
   "source": [
    "# Load the EMIT dataset with orthorectification\n",
    "ds_geo = emit_xarray(fp, ortho=True)\n",
    "\n",
    "# Normalize the reflectance data across wavelengths\n",
    "norm = np.sqrt((ds_geo.reflectance**2).sum(dim=\"wavelengths\"))\n",
    "normalized_reflectance = ds_geo.reflectance / norm"
   ]
  },
  {
   "cell_type": "markdown",
   "id": "7f5f38ef",
   "metadata": {},
   "source": [
    "Begin loading and formatting JSON"
   ]
  },
  {
   "cell_type": "code",
   "execution_count": 21,
   "id": "f90341e5",
   "metadata": {
    "scrolled": true
   },
   "outputs": [
    {
     "name": "stdout",
     "output_type": "stream",
     "text": [
      "Nitrogen\n",
      "avc+neon\n",
      "plsr\n",
      "mg/g\n",
      "nanometers\n",
      "Wavelength range of 95 :  1000.0 - 2400.0\n",
      "1000.0\n",
      "1010.0\n",
      "1020.0\n",
      "1030.0\n",
      "1040.0\n",
      "1050.0\n",
      "1060.0\n",
      "1070.0\n",
      "1080.0\n",
      "1090.0\n",
      "1100.0\n",
      "1110.0\n",
      "1120.0\n",
      "1130.0\n",
      "1140.0\n",
      "1150.0\n",
      "1160.0\n",
      "1170.0\n",
      "1180.0\n",
      "1190.0\n",
      "1200.0\n",
      "1210.0\n",
      "1220.0\n",
      "1230.0\n",
      "1240.0\n",
      "1250.0\n",
      "1260.0\n",
      "1470.0\n",
      "1480.0\n",
      "1490.0\n",
      "1500.0\n",
      "1510.0\n",
      "1520.0\n",
      "1530.0\n",
      "1540.0\n",
      "1550.0\n",
      "1560.0\n",
      "1570.0\n",
      "1580.0\n",
      "1590.0\n",
      "1600.0\n",
      "1610.0\n",
      "1620.0\n",
      "1630.0\n",
      "1640.0\n",
      "1650.0\n",
      "1660.0\n",
      "1670.0\n",
      "1680.0\n",
      "1690.0\n",
      "1700.0\n",
      "1710.0\n",
      "1720.0\n",
      "1730.0\n",
      "1740.0\n",
      "1750.0\n",
      "1760.0\n",
      "1770.0\n",
      "1780.0\n",
      "2050.0\n",
      "2060.0\n",
      "2070.0\n",
      "2080.0\n",
      "2090.0\n",
      "2100.0\n",
      "2110.0\n",
      "2120.0\n",
      "2130.0\n",
      "2140.0\n",
      "2150.0\n",
      "2160.0\n",
      "2170.0\n",
      "2180.0\n",
      "2190.0\n",
      "2200.0\n",
      "2210.0\n",
      "2220.0\n",
      "2230.0\n",
      "2240.0\n",
      "2250.0\n",
      "2260.0\n",
      "2270.0\n",
      "2280.0\n",
      "2290.0\n",
      "2300.0\n",
      "2310.0\n",
      "2320.0\n",
      "2330.0\n",
      "2340.0\n",
      "2350.0\n",
      "2360.0\n",
      "2370.0\n",
      "2380.0\n",
      "2390.0\n",
      "2400.0\n"
     ]
    }
   ],
   "source": [
    "#Load the JSON nitrogen AVIRIS map\n",
    "\n",
    "# Opening JSON file\n",
    "f = open(f'../trait_data/PLSR_raw_coef_Nitrogen_1000_2400.json')\n",
    " \n",
    "# returns JSON object as \n",
    "# a dictionary\n",
    "plsr = json.load(f)\n",
    " \n",
    "# Iterating through the json\n",
    "# list\n",
    "\n",
    "print(plsr['name'])\n",
    "print(plsr['spectrometer'])\n",
    "print(plsr['type'])\n",
    "print(plsr['units'])\n",
    "print(plsr['wavelength_units'])\n",
    "wavelengths = plsr['wavelengths']\n",
    "min_wavelength = min(wavelengths)\n",
    "max_wavelength = max(wavelengths)\n",
    "n_wavelength = len(wavelengths)\n",
    "print(\"Wavelength range of\", n_wavelength,\": \", min_wavelength, \"-\", max_wavelength)\n",
    "for i in plsr['wavelengths']:\n",
    "    print(i)\n",
    "\n",
    " \n",
    "# Closing file\n",
    "f.close()"
   ]
  },
  {
   "cell_type": "code",
   "execution_count": 22,
   "id": "30872e57",
   "metadata": {},
   "outputs": [],
   "source": [
    "# Get PLSR model stuff\n",
    "c = plsr[\"model\"][\"coefficients\"] # Coefficients\n",
    "n = plsr[\"model\"][\"components\"] # Number of components\n",
    "i = plsr[\"model\"][\"intercepts\"] # Intercept"
   ]
  },
  {
   "cell_type": "markdown",
   "id": "0765e538",
   "metadata": {},
   "source": [
    "Build the array"
   ]
  },
  {
   "cell_type": "code",
   "execution_count": 23,
   "id": "3131dd01",
   "metadata": {},
   "outputs": [
    {
     "name": "stdout",
     "output_type": "stream",
     "text": [
      "95\n",
      "1000\n",
      "2400\n"
     ]
    }
   ],
   "source": [
    "# Simulated flightline shape: bands, rows, columns\n",
    "array_dimensions = (95, 1000, 2400) # Only load wavelengths listed in json object, ~95 total bands\n",
    "X = np.random.rand(*array_dimensions)\n",
    "print(X.shape[0])\n",
    "print(X.shape[1])\n",
    "print(X.shape[2])"
   ]
  },
  {
   "cell_type": "code",
   "execution_count": 24,
   "id": "fd42ac0a",
   "metadata": {},
   "outputs": [],
   "source": [
    "# Reshape the array to the expected model input (wavelength pixel values, \n",
    "#number of pixels)/(95, 6000)\n",
    "X = X.reshape(X.shape[0], X.shape[1]*X.shape[2]).T\n"
   ]
  },
  {
   "cell_type": "code",
   "execution_count": 25,
   "id": "3a8eb218",
   "metadata": {},
   "outputs": [],
   "source": [
    "# PLSR Stuff\n",
    "pls_model = PLSRegression(n_components=n, copy=False)\n",
    "pls_model.intercept_ = np.array(i)\n",
    "pls_model.coef_ = np.array(c)\n",
    "pls_model._x_mean = np.mean(X)\n",
    "pls_model._x_std = np.std(X)"
   ]
  },
  {
   "cell_type": "code",
   "execution_count": 26,
   "id": "3b8a56a7",
   "metadata": {
    "scrolled": true
   },
   "outputs": [
    {
     "ename": "type",
     "evalue": "'PLSRegression' object has no attribute '_predict_1d'",
     "output_type": "error",
     "traceback": [
      "\u001b[1;31m---------------------------------------------------------------------------\u001b[0m",
      "\u001b[1;31mAttributeError\u001b[0m                            Traceback (most recent call last)",
      "Cell \u001b[1;32mIn[26], line 2\u001b[0m\n\u001b[0;32m      1\u001b[0m \u001b[38;5;66;03m# Make Predictions\u001b[39;00m\n\u001b[1;32m----> 2\u001b[0m predictions \u001b[38;5;241m=\u001b[39m \u001b[43mpls_model\u001b[49m\u001b[38;5;241;43m.\u001b[39;49m\u001b[43mpredict\u001b[49m\u001b[43m(\u001b[49m\u001b[43mX\u001b[49m\u001b[43m)\u001b[49m \u001b[38;5;66;03m#memory error\u001b[39;00m\n",
      "File \u001b[1;32mc:\\Anaconda\\envs\\emit_tutorials\\Lib\\site-packages\\sklearn\\cross_decomposition\\_pls.py:476\u001b[0m, in \u001b[0;36m_PLS.predict\u001b[1;34m(self, X, copy)\u001b[0m\n\u001b[0;32m    474\u001b[0m X \u001b[38;5;241m/\u001b[39m\u001b[38;5;241m=\u001b[39m \u001b[38;5;28mself\u001b[39m\u001b[38;5;241m.\u001b[39m_x_std\n\u001b[0;32m    475\u001b[0m Ypred \u001b[38;5;241m=\u001b[39m X \u001b[38;5;241m@\u001b[39m \u001b[38;5;28mself\u001b[39m\u001b[38;5;241m.\u001b[39mcoef_\u001b[38;5;241m.\u001b[39mT \u001b[38;5;241m+\u001b[39m \u001b[38;5;28mself\u001b[39m\u001b[38;5;241m.\u001b[39mintercept_\n\u001b[1;32m--> 476\u001b[0m \u001b[38;5;28;01mreturn\u001b[39;00m Ypred\u001b[38;5;241m.\u001b[39mravel() \u001b[38;5;28;01mif\u001b[39;00m \u001b[38;5;28;43mself\u001b[39;49m\u001b[38;5;241;43m.\u001b[39;49m\u001b[43m_predict_1d\u001b[49m \u001b[38;5;28;01melse\u001b[39;00m Ypred\n",
      "\u001b[1;31mAttributeError\u001b[0m: 'PLSRegression' object has no attribute '_predict_1d'"
     ]
    }
   ],
   "source": [
    "# Make Predictions\n",
    "predictions = pls_model.predict(X) "
   ]
  },
  {
   "cell_type": "markdown",
   "id": "45504cdc",
   "metadata": {},
   "source": [
    "Now you just have to reshape the predicted values back into their original form and write it into a GeoTiff!"
   ]
  },
  {
   "cell_type": "code",
   "execution_count": 78,
   "id": "b447a498",
   "metadata": {},
   "outputs": [],
   "source": [
    "# Reshape X to its original shape\n",
    "X_restored = X.T.reshape(array_dimensions)"
   ]
  },
  {
   "cell_type": "code",
   "execution_count": null,
   "id": "ff487e6f",
   "metadata": {},
   "outputs": [],
   "source": [
    "#Create GeoTiff!"
   ]
  }
 ],
 "metadata": {
  "kernelspec": {
   "display_name": "Python 3 (ipykernel)",
   "language": "python",
   "name": "python3"
  },
  "language_info": {
   "codemirror_mode": {
    "name": "ipython",
    "version": 3
   },
   "file_extension": ".py",
   "mimetype": "text/x-python",
   "name": "python",
   "nbconvert_exporter": "python",
   "pygments_lexer": "ipython3",
   "version": "3.11.4"
  }
 },
 "nbformat": 4,
 "nbformat_minor": 5
}
